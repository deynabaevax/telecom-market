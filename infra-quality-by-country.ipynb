{
 "cells": [
  {
   "cell_type": "markdown",
   "metadata": {},
   "source": [
    "## Analyzing Infrastructure Quality (download/upload speed and latency) by Country (Thailand, Mexico, South Africa)"
   ]
  },
  {
   "cell_type": "markdown",
   "metadata": {},
   "source": [
    "1. Data Acquisition\n",
    "\n",
    "    Accessed Ookla Open Data for Q1 2025 fixed broadband performance.\n",
    "\n",
    "    Downloaded the relevant .parquet file and inspected its structure.\n",
    "\n",
    "    Reconstructed geospatial tile geometry from quadkey values using the mercantile library.\n",
    "\n",
    "2. Geometry Construction\n",
    "\n",
    "    Converted quadkeys into bounding boxes (shapely.box) using mercantile.bounds.\n",
    "\n",
    "    Built a GeoDataFrame (gdf) with performance metrics and geometry in WGS84 (EPSG:4326).\n",
    "\n",
    "3. Country Filtering\n",
    "\n",
    "    Downloaded and loaded country boundaries from Natural Earth (ne_110m_admin_0_countries.shp).\n",
    "\n",
    "    Selected target countries: Thailand, Mexico, and South Africa.\n",
    "\n",
    "    Ensured coordinate reference systems matched before spatial join.\n",
    "\n",
    "4. Spatial Join\n",
    "\n",
    "    Used geopandas.sjoin() to select only tiles intersecting the target countries.\n",
    "\n",
    "    Resulted in a clean performance dataset specific to each country.\n",
    "\n",
    "5. Metric Aggregation\n",
    "\n",
    "    Calculated average download speed, average upload speed, and average latency per country.\n",
    "\n",
    "    Created a summary table and confirmed Thailand’s dominant performance.\n",
    "\n",
    "6. Visualization\n",
    "\n",
    "    Built horizontal bar charts for all three KPIs (download, upload, latency), sorted by performance.\n",
    "\n",
    "    Used invert_yaxis() in plots to place top performers at the top for intuitive reading.\n",
    "\n",
    "\n",
    "https://ookla-open-data.s3.amazonaws.com/\n",
    "\n",
    "https://www.speedtest.net/global-index/thailand\n",
    "\n",
    "https://www.naturalearthdata.com/downloads/110m-cultural-vectors/110m-admin-0-countries/"
   ]
  },
  {
   "cell_type": "code",
   "execution_count": null,
   "metadata": {},
   "outputs": [],
   "source": [
    "%matplotlib inline\n",
    "\n",
    "import geopandas as gp\n",
    "import matplotlib.pyplot as plt\n",
    "import pandas as pd\n",
    "\n",
    "import geopandas as gpd\n",
    "from shapely.geometry import box"
   ]
  },
  {
   "cell_type": "code",
   "execution_count": 50,
   "metadata": {},
   "outputs": [
    {
     "name": "stdout",
     "output_type": "stream",
     "text": [
      "Download complete!\n"
     ]
    }
   ],
   "source": [
    "import requests\n",
    "\n",
    "# url = \"https://ookla-open-data.s3-us-west-2.amazonaws.com/parquet/performance/type%3Dfixed/year%3D2025/quarter%3D1/2025-01-01_performance_fixed_tiles.parquet\"\n",
    "\n",
    "url = \"https://ookla-open-data.s3-us-west-2.amazonaws.com/parquet/performance/type%3Dmobile/year%3D2025/quarter%3D1/2025-01-01_performance_mobile_tiles.parquet\"\n",
    "\n",
    "local_filename = \"data/2025_Q1_mobile_tiles.parquet\"\n",
    "\n",
    "with requests.get(url, stream=True) as r:\n",
    "    r.raise_for_status()\n",
    "    with open(local_filename, 'wb') as f:\n",
    "        for chunk in r.iter_content(chunk_size=8192):\n",
    "            f.write(chunk)\n",
    "\n",
    "print(\"Download complete!\")"
   ]
  },
  {
   "cell_type": "code",
   "execution_count": 51,
   "metadata": {},
   "outputs": [],
   "source": [
    "# Load the parquet file as a regular DataFrame\n",
    "df = pd.read_parquet(\"data/2025_Q1_mobile_tiles.parquet\")"
   ]
  },
  {
   "cell_type": "code",
   "execution_count": 52,
   "metadata": {},
   "outputs": [
    {
     "name": "stdout",
     "output_type": "stream",
     "text": [
      "['quadkey', 'tile', 'tile_x', 'tile_y', 'avg_d_kbps', 'avg_u_kbps', 'avg_lat_ms', 'avg_lat_down_ms', 'avg_lat_up_ms', 'tests', 'devices']\n"
     ]
    }
   ],
   "source": [
    "print(df.columns.tolist())"
   ]
  },
  {
   "cell_type": "code",
   "execution_count": 21,
   "metadata": {},
   "outputs": [],
   "source": [
    "import mercantile"
   ]
  },
  {
   "cell_type": "code",
   "execution_count": 22,
   "metadata": {},
   "outputs": [
    {
     "name": "stdout",
     "output_type": "stream",
     "text": [
      "Tiles with geometry loaded!\n"
     ]
    }
   ],
   "source": [
    "# Convert quadkeys to tile bounds and create geometries\n",
    "def quadkey_to_geom(qk):\n",
    "    tile = mercantile.quadkey_to_tile(qk)\n",
    "    bounds = mercantile.bounds(tile)\n",
    "    return box(bounds.west, bounds.south, bounds.east, bounds.north)\n",
    "\n",
    "df[\"geometry\"] = df[\"quadkey\"].apply(quadkey_to_geom)\n",
    "gdf = gpd.GeoDataFrame(df, geometry=\"geometry\", crs=\"EPSG:4326\")  # WGS84\n",
    "\n",
    "print(\"Tiles with geometry loaded!\")"
   ]
  },
  {
   "cell_type": "code",
   "execution_count": 25,
   "metadata": {},
   "outputs": [
    {
     "name": "stdout",
     "output_type": "stream",
     "text": [
      "<class 'geopandas.geodataframe.GeoDataFrame'>\n",
      "RangeIndex: 6364159 entries, 0 to 6364158\n",
      "Data columns (total 12 columns):\n",
      " #   Column           Dtype   \n",
      "---  ------           -----   \n",
      " 0   quadkey          object  \n",
      " 1   tile             object  \n",
      " 2   tile_x           float64 \n",
      " 3   tile_y           float64 \n",
      " 4   avg_d_kbps       int64   \n",
      " 5   avg_u_kbps       int64   \n",
      " 6   avg_lat_ms       int64   \n",
      " 7   avg_lat_down_ms  float64 \n",
      " 8   avg_lat_up_ms    float64 \n",
      " 9   tests            int64   \n",
      " 10  devices          int64   \n",
      " 11  geometry         geometry\n",
      "dtypes: float64(4), geometry(1), int64(5), object(2)\n",
      "memory usage: 582.7+ MB\n"
     ]
    }
   ],
   "source": [
    "gdf.info()"
   ]
  },
  {
   "cell_type": "code",
   "execution_count": 53,
   "metadata": {},
   "outputs": [
    {
     "name": "stdout",
     "output_type": "stream",
     "text": [
      "Mobile tiles with geometry loaded!\n"
     ]
    }
   ],
   "source": [
    "def quadkey_to_geom(qk):\n",
    "    tile = mercantile.quadkey_to_tile(qk)\n",
    "    bounds = mercantile.bounds(tile)\n",
    "    return box(bounds.west, bounds.south, bounds.east, bounds.north)\n",
    "\n",
    "df[\"geometry\"] = df[\"quadkey\"].apply(quadkey_to_geom)\n",
    "gdf = gpd.GeoDataFrame(df, geometry=\"geometry\", crs=\"EPSG:4326\")\n",
    "print(\"Mobile tiles with geometry loaded!\")"
   ]
  },
  {
   "cell_type": "code",
   "execution_count": 54,
   "metadata": {},
   "outputs": [],
   "source": [
    "world = gpd.read_file(\"C:/Users/deyna/Desktop/telecom-market/data/ne_110m_admin_0_countries.shp\")\n",
    "\n",
    "targets = world[world[\"NAME\"].isin([\"Thailand\", \"Mexico\", \"South Africa\"])]"
   ]
  },
  {
   "cell_type": "code",
   "execution_count": 55,
   "metadata": {},
   "outputs": [],
   "source": [
    "# Align coordinate systems just in case\n",
    "targets = targets.to_crs(gdf.crs)\n",
    "\n",
    "# Perform spatial join\n",
    "filtered_tiles = gpd.sjoin(gdf, targets, how=\"inner\", predicate=\"intersects\")"
   ]
  },
  {
   "cell_type": "code",
   "execution_count": 57,
   "metadata": {},
   "outputs": [
    {
     "name": "stdout",
     "output_type": "stream",
     "text": [
      "Mobile Network Performance Summary:\n",
      "\n",
      "              Avg Download (Kbps)  Avg Upload (Kbps)  Avg Latency (ms)\n",
      "NAME                                                                  \n",
      "Mexico                   52590.06           16196.01             60.58\n",
      "South Africa             74446.27           14360.73             33.81\n",
      "Thailand                 71482.37           17079.49             31.05\n"
     ]
    }
   ],
   "source": [
    "filtered_tiles = gpd.sjoin(gdf, targets, how=\"inner\", predicate=\"intersects\")\n",
    "\n",
    "summary = (\n",
    "    filtered_tiles.groupby(\"NAME\")[[\"avg_d_kbps\", \"avg_u_kbps\", \"avg_lat_ms\"]]\n",
    "    .mean()\n",
    "    .round(2)\n",
    "    .rename(columns={\n",
    "        \"avg_d_kbps\": \"Avg Download (Kbps)\",\n",
    "        \"avg_u_kbps\": \"Avg Upload (Kbps)\",\n",
    "        \"avg_lat_ms\": \"Avg Latency (ms)\"\n",
    "    })\n",
    ")\n",
    "\n",
    "print(\"Mobile Network Performance Summary:\\n\")\n",
    "print(summary)"
   ]
  },
  {
   "cell_type": "markdown",
   "metadata": {},
   "source": [
    "Note: higher speeds and lower latency are better for eSIM quality."
   ]
  },
  {
   "cell_type": "markdown",
   "metadata": {},
   "source": [
    "Highlights:\n",
    "\n",
    "  - Thailand\n",
    "\n",
    "      - Strongest all-around performance\n",
    "\n",
    "      - Second-fastest download speed (~71.5 Mbps)\n",
    "\n",
    "      - Highest upload speed\n",
    "\n",
    "      - Lowest latency at just 31 ms—ideal for eSIM usage like VoIP, streaming, and real-time apps\n",
    "\n",
    "  - South Africa\n",
    "\n",
    "      - Fastest download speed (~74.4 Mbps), a pleasant surprise\n",
    "\n",
    "      - Upload speed trails slightly\n",
    "\n",
    "      - Moderate latency (34 ms), making it quite competitive\n",
    "\n",
    "  - Mexico\n",
    "\n",
    "      - Lowest download speed (~52.6 Mbps) and highest latency (~60.6 ms)\n",
    "\n",
    "      - Solid upload speed, but overall least favorable performance among the three\n",
    "\n",
    "\n",
    "\n",
    "  Thailand still shines as the most balanced and reliable market across all key KPIs. South Africa's download speed gives it an edge, but slightly weaker latency and uploads may impact consistency. Mexico lags behind in responsiveness, which could affect user satisfaction with eSIM-enabled services."
   ]
  },
  {
   "cell_type": "code",
   "execution_count": 58,
   "metadata": {},
   "outputs": [
    {
     "data": {
      "image/png": "[encoded data removed]",
      "text/plain": [
       "<Figure size 800x500 with 1 Axes>"
      ]
     },
     "metadata": {},
     "output_type": "display_data"
    }
   ],
   "source": [
    "summary_sorted = summary.sort_values(\"Avg Download (Kbps)\", ascending=False)\n",
    "summary_sorted[\"Avg Download (Mbps)\"] = summary_sorted[\"Avg Download (Kbps)\"] / 1000\n",
    "\n",
    "summary_sorted[\"Avg Download (Mbps)\"].plot(\n",
    "    kind=\"barh\",\n",
    "    color=\"#4c78a8\",\n",
    "    figsize=(8, 5),\n",
    "    title=\"Q1 2025 – Avg Download Speed by Country (Mbps)\"\n",
    ")\n",
    "\n",
    "plt.xlabel(\"Mbps\")\n",
    "plt.ylabel(\"Country\")\n",
    "plt.gca().invert_yaxis()  \n",
    "plt.tight_layout()\n",
    "plt.show()\n"
   ]
  },
  {
   "cell_type": "code",
   "execution_count": 59,
   "metadata": {},
   "outputs": [
    {
     "data": {
      "image/png": "[encoded data removed]",
      "text/plain": [
       "<Figure size 800x500 with 1 Axes>"
      ]
     },
     "metadata": {},
     "output_type": "display_data"
    }
   ],
   "source": [
    "summary_sorted = summary.sort_values(\"Avg Upload (Kbps)\", ascending=False)\n",
    "summary_sorted[\"Avg Upload (Mbps)\"] = summary_sorted[\"Avg Upload (Kbps)\"] / 1000\n",
    "\n",
    "summary_sorted[\"Avg Upload (Mbps)\"].plot(\n",
    "    kind=\"barh\",\n",
    "    color=\"#76b7b2\",\n",
    "    figsize=(8, 5),\n",
    "    title=\"Q1 2025 – Avg Upload Speed by Country (Mbps)\"\n",
    ")\n",
    "\n",
    "plt.xlabel(\"Mbps\")\n",
    "plt.ylabel(\"Country\")\n",
    "plt.gca().invert_yaxis()\n",
    "plt.tight_layout()\n",
    "plt.show()"
   ]
  },
  {
   "cell_type": "code",
   "execution_count": 60,
   "metadata": {},
   "outputs": [
    {
     "data": {
      "image/png": "[encoded data removed]",
      "text/plain": [
       "<Figure size 800x500 with 1 Axes>"
      ]
     },
     "metadata": {},
     "output_type": "display_data"
    }
   ],
   "source": [
    "summary_sorted = summary.sort_values(\"Avg Latency (ms)\", ascending=True)\n",
    "\n",
    "summary_sorted[\"Avg Latency (ms)\"].plot(\n",
    "    kind=\"barh\",\n",
    "    color=\"#f58518\",\n",
    "    figsize=(8, 5),\n",
    "    title=\"Q1 2025 – Avg Latency by Country (ms)\"\n",
    ")\n",
    "\n",
    "plt.xlabel(\"Milliseconds\")\n",
    "plt.ylabel(\"Country\")\n",
    "plt.gca().invert_yaxis()\n",
    "plt.tight_layout()\n",
    "plt.show()"
   ]
  }
 ],
 "metadata": {
  "kernelspec": {
   "display_name": "Python 3",
   "language": "python",
   "name": "python3"
  },
  "language_info": {
   "codemirror_mode": {
    "name": "ipython",
    "version": 3
   },
   "file_extension": ".py",
   "mimetype": "text/x-python",
   "name": "python",
   "nbconvert_exporter": "python",
   "pygments_lexer": "ipython3",
   "version": "3.11.1"
  }
 },
 "nbformat": 4,
 "nbformat_minor": 4
}
