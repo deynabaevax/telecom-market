{
 "cells": [
  {
   "cell_type": "code",
   "execution_count": 12,
   "metadata": {},
   "outputs": [],
   "source": [
    "import pandas as pd"
   ]
  },
  {
   "cell_type": "code",
   "execution_count": null,
   "metadata": {},
   "outputs": [],
   "source": [
    "files = ['data/cell_towers_MX.csv', 'data/cell_towers_ZA.csv', 'data/cell_towers_THA.csv']\n",
    "\n",
    "# Read and concatenate them\n",
    "merged_df = pd.concat([pd.read_csv(file) for file in files])\n",
    "\n",
    "# Save to a new CSV\n",
    "merged_df.to_csv('merged_file.csv', index=False)"
   ]
  },
  {
   "cell_type": "code",
   "execution_count": 14,
   "metadata": {},
   "outputs": [],
   "source": [
    "df = pd.read_csv('data/merged_file.csv')"
   ]
  },
  {
   "cell_type": "code",
   "execution_count": 15,
   "metadata": {},
   "outputs": [
    {
     "name": "stdout",
     "output_type": "stream",
     "text": [
      "<class 'pandas.core.frame.DataFrame'>\n",
      "RangeIndex: 283769 entries, 0 to 283768\n",
      "Data columns (total 16 columns):\n",
      " #   Column         Non-Null Count   Dtype  \n",
      "---  ------         --------------   -----  \n",
      " 0   radio          283769 non-null  object \n",
      " 1   mcc            283769 non-null  int64  \n",
      " 2   net            283769 non-null  int64  \n",
      " 3   area           283769 non-null  int64  \n",
      " 4   cell           283769 non-null  int64  \n",
      " 5   unit           283769 non-null  int64  \n",
      " 6   lon            283769 non-null  float64\n",
      " 7   lat            283769 non-null  float64\n",
      " 8   range          283769 non-null  int64  \n",
      " 9   samples        283769 non-null  int64  \n",
      " 10  changeable     283769 non-null  int64  \n",
      " 11  averageSignal  283769 non-null  int64  \n",
      " 12  created_utc    283769 non-null  object \n",
      " 13  updated_utc    283769 non-null  object \n",
      " 14  created_date   283769 non-null  object \n",
      " 15  updated_date   283769 non-null  object \n",
      "dtypes: float64(2), int64(9), object(5)\n",
      "memory usage: 34.6+ MB\n"
     ]
    }
   ],
   "source": [
    "df.info()"
   ]
  },
  {
   "cell_type": "code",
   "execution_count": 16,
   "metadata": {},
   "outputs": [],
   "source": [
    "# Map MCCs to country names\n",
    "mcc_map = {520: \"Thailand\", 334: \"Mexico\", 655: \"South Africa\"}\n",
    "df[\"country\"] = df[\"mcc\"].map(mcc_map)"
   ]
  },
  {
   "cell_type": "code",
   "execution_count": 17,
   "metadata": {},
   "outputs": [
    {
     "data": {
      "text/html": [
       "<div>\n",
       "<style scoped>\n",
       "    .dataframe tbody tr th:only-of-type {\n",
       "        vertical-align: middle;\n",
       "    }\n",
       "\n",
       "    .dataframe tbody tr th {\n",
       "        vertical-align: top;\n",
       "    }\n",
       "\n",
       "    .dataframe thead th {\n",
       "        text-align: right;\n",
       "    }\n",
       "</style>\n",
       "<table border=\"1\" class=\"dataframe\">\n",
       "  <thead>\n",
       "    <tr style=\"text-align: right;\">\n",
       "      <th></th>\n",
       "      <th>country</th>\n",
       "      <th>tower_count</th>\n",
       "    </tr>\n",
       "  </thead>\n",
       "  <tbody>\n",
       "    <tr>\n",
       "      <th>0</th>\n",
       "      <td>Mexico</td>\n",
       "      <td>117144</td>\n",
       "    </tr>\n",
       "    <tr>\n",
       "      <th>1</th>\n",
       "      <td>South Africa</td>\n",
       "      <td>27742</td>\n",
       "    </tr>\n",
       "    <tr>\n",
       "      <th>2</th>\n",
       "      <td>Thailand</td>\n",
       "      <td>32738</td>\n",
       "    </tr>\n",
       "  </tbody>\n",
       "</table>\n",
       "</div>"
      ],
      "text/plain": [
       "        country  tower_count\n",
       "0        Mexico       117144\n",
       "1  South Africa        27742\n",
       "2      Thailand        32738"
      ]
     },
     "execution_count": 17,
     "metadata": {},
     "output_type": "execute_result"
    }
   ],
   "source": [
    "# Count unique towers per country\n",
    "tower_counts = df.groupby(\"country\")[\"cell\"].nunique().reset_index(name=\"tower_count\")\n",
    "tower_counts"
   ]
  },
  {
   "cell_type": "code",
   "execution_count": 19,
   "metadata": {},
   "outputs": [],
   "source": [
    "# Approximate land areas in km²\n",
    "land_area = {\"Thailand\": 513120, \"Mexico\": 1972550, \"South Africa\": 1221037}\n",
    "tower_counts[\"land_area_km2\"] = tower_counts[\"country\"].map(land_area)\n",
    "tower_counts[\"towers_per_1000_km2\"] = (tower_counts[\"tower_count\"] / tower_counts[\"land_area_km2\"]) * 1000"
   ]
  },
  {
   "cell_type": "code",
   "execution_count": 21,
   "metadata": {},
   "outputs": [
    {
     "data": {
      "text/html": [
       "<div>\n",
       "<style scoped>\n",
       "    .dataframe tbody tr th:only-of-type {\n",
       "        vertical-align: middle;\n",
       "    }\n",
       "\n",
       "    .dataframe tbody tr th {\n",
       "        vertical-align: top;\n",
       "    }\n",
       "\n",
       "    .dataframe thead th {\n",
       "        text-align: right;\n",
       "    }\n",
       "</style>\n",
       "<table border=\"1\" class=\"dataframe\">\n",
       "  <thead>\n",
       "    <tr style=\"text-align: right;\">\n",
       "      <th></th>\n",
       "      <th>country</th>\n",
       "      <th>tower_count</th>\n",
       "      <th>land_area_km2</th>\n",
       "      <th>towers_per_1000_km2</th>\n",
       "    </tr>\n",
       "  </thead>\n",
       "  <tbody>\n",
       "    <tr>\n",
       "      <th>0</th>\n",
       "      <td>Mexico</td>\n",
       "      <td>117144</td>\n",
       "      <td>1972550</td>\n",
       "      <td>59.387088</td>\n",
       "    </tr>\n",
       "    <tr>\n",
       "      <th>1</th>\n",
       "      <td>South Africa</td>\n",
       "      <td>27742</td>\n",
       "      <td>1221037</td>\n",
       "      <td>22.720032</td>\n",
       "    </tr>\n",
       "    <tr>\n",
       "      <th>2</th>\n",
       "      <td>Thailand</td>\n",
       "      <td>32738</td>\n",
       "      <td>513120</td>\n",
       "      <td>63.801840</td>\n",
       "    </tr>\n",
       "  </tbody>\n",
       "</table>\n",
       "</div>"
      ],
      "text/plain": [
       "        country  tower_count  land_area_km2  towers_per_1000_km2\n",
       "0        Mexico       117144        1972550            59.387088\n",
       "1  South Africa        27742        1221037            22.720032\n",
       "2      Thailand        32738         513120            63.801840"
      ]
     },
     "execution_count": 21,
     "metadata": {},
     "output_type": "execute_result"
    }
   ],
   "source": [
    "tower_counts"
   ]
  },
  {
   "cell_type": "code",
   "execution_count": 20,
   "metadata": {},
   "outputs": [
    {
     "data": {
      "image/png": "[encoded data removed]",
      "text/plain": [
       "<Figure size 640x480 with 1 Axes>"
      ]
     },
     "metadata": {},
     "output_type": "display_data"
    }
   ],
   "source": [
    "import matplotlib.pyplot as plt\n",
    "\n",
    "tower_counts.set_index(\"country\")[\"towers_per_1000_km2\"].plot(\n",
    "    kind=\"barh\", color=\"#59a14f\", title=\"Cell Tower Density per 1,000 km²\"\n",
    ")\n",
    "plt.xlabel(\"Towers per 1,000 km²\")\n",
    "plt.tight_layout()\n",
    "plt.show()"
   ]
  }
 ],
 "metadata": {
  "kernelspec": {
   "display_name": "1global-test-case",
   "language": "python",
   "name": "python3"
  },
  "language_info": {
   "codemirror_mode": {
    "name": "ipython",
    "version": 3
   },
   "file_extension": ".py",
   "mimetype": "text/x-python",
   "name": "python",
   "nbconvert_exporter": "python",
   "pygments_lexer": "ipython3",
   "version": "3.11.1"
  }
 },
 "nbformat": 4,
 "nbformat_minor": 2
}
